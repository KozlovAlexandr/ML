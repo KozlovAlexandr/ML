{
 "cells": [
  {
   "cell_type": "markdown",
   "metadata": {},
   "source": [
    "**Общая информация**\n",
    "\n",
    "**Срок сдачи:** 18 октября 2017, 06:00 <br\\>\n",
    "**Штраф за опоздание:** -2 балла после 06:00 18 октября, -4 балла после 06:00 25 октября, -6 баллов после 06:00 1 ноября\n",
    "\n",
    "При отправлении ДЗ указывайте фамилию в названии файла\n",
    "Присылать ДЗ необходимо в виде ссылки на свой github репозиторий в slack @alkhamush\n",
    "\n",
    "Необходимо в slack создать таск в приватный чат:\n",
    "/todo Фамилия Имя ссылка на гитхаб @alkhamush\n",
    "Пример:\n",
    "/todo Ксения Стройкова https://github.com/stroykova/spheremailru/stroykova_hw1.ipynb @alkhamush\n",
    "Дополнительно нужно просто скинуть ссылку в slack в личный чат\n",
    "\n",
    "Используйте данный Ipython Notebook при оформлении домашнего задания."
   ]
  },
  {
   "cell_type": "markdown",
   "metadata": {},
   "source": [
    "###### Задание 1 (2 баллов)\n",
    "Реализовать KNN в классе MyKNeighborsClassifier (обязательное условие: точность не ниже sklearn реализации)\n",
    "Разберитесь самостоятельно, какая мера расстояния используется в KNeighborsClassifier дефолтно и реализуйте свой алгоритм именно с этой мерой. Самостоятельно разберитесь, как считается score из KNeighborsClassifier и реализуйте аналог в своём классе. Score не должен уступать значению KNN из sklearn\n",
    "\n",
    "###### Задание 2 (2 балла)\n",
    "Добиться скорости работы на fit,  predict и predict_proba сравнимой со sklearn для iris и mnist\n",
    "Для этого используем numpy\n",
    "\n",
    "###### Задание 3 (2 балла)\n",
    "Для iris найдите такой параметр n_neighbors, при котором выдаётся наилучший score. Нарисуйте график зависимости score от n_neighbors\n",
    "\n",
    "###### Задание 4 (3 балла)\n",
    "Добавить algorithm='kd_tree' в реализацию KNN (использовать KDTree из sklearn.neighbors). Значение n_neighbors нужно взять из задания 3. Добиться скорости работы на fit,  predict и predict_proba сравнимой со sklearn для iris и mnist\n",
    "Для этого используем numpy. Score не должен уступать значению KNN из sklearn\n",
    "\n",
    "###### Задание 5 (1 балла)\n",
    "Описать для чего нужны следующие библиотеки/классы/функции (список будет ниже)\n",
    "\n",
    "**Штрафные баллы:**\n",
    "\n",
    "1. Невыполнение PEP8 -1 балл\n",
    "2. Отсутствие фамилии в имени скрипта (скрипт должен называться по аналогии со stroykova_hw1.ipynb) -1 балл\n",
    "3. Все строчки должны быть выполнены. Нужно, чтобы output команды можно было увидеть уже в git'е. В противном случае -1 балл\n",
    "4. При оформлении ДЗ нужно пользоваться данным файлом в качестве шаблона. Не нужно удалять и видоизменять структуру кода и текст. В противном случае -1 балл\n"
   ]
  },
  {
   "cell_type": "code",
   "execution_count": 2,
   "metadata": {},
   "outputs": [],
   "source": [
    "import numpy as np\n",
    "import matplotlib.pyplot as plt\n",
    "\n",
    "import seaborn as sns\n",
    "from sklearn import datasets\n",
    "from sklearn.base import ClassifierMixin\n",
    "from sklearn.datasets import fetch_mldata\n",
    "from sklearn.neighbors.base import NeighborsBase, KNeighborsMixin, SupervisedIntegerMixin \n",
    "from sklearn.model_selection import train_test_split\n",
    "from sklearn.neighbors import KNeighborsClassifier, KDTree\n",
    "%load_ext pycodestyle_magic"
   ]
  },
  {
   "cell_type": "code",
   "execution_count": 6,
   "metadata": {},
   "outputs": [],
   "source": [
    "#%%pycodestyle\n",
    "\n",
    "\n",
    "class MyKNeighborsClassifier(NeighborsBase,\n",
    "                             KNeighborsMixin,\n",
    "                             SupervisedIntegerMixin,\n",
    "                             ClassifierMixin):\n",
    "\n",
    "    def __init__(self, n_neighbors, algorithm='brute'):\n",
    "        self._n_neighbors = n_neighbors\n",
    "        self._algorithm = algorithm\n",
    "\n",
    "    def fit(self, X, y):\n",
    "        self._X_train = X.astype(float)\n",
    "        self._y_train = y\n",
    "        if self._algorithm == 'kd_tree':\n",
    "            self._tree = KDTree(X)\n",
    "\n",
    "    def _dist(self, X):\n",
    "\n",
    "        X = X.astype(float)\n",
    "        dist = np.zeros((len(X), len(self._X_train))).astype(float)\n",
    "        cnt = 0\n",
    "        for i in X:\n",
    "            dist[cnt] = np.sum((self._X_train-i)**2, axis=1)\n",
    "            cnt += 1\n",
    "        return np.sqrt(dist)\n",
    "\n",
    "    def _predict(self, X):\n",
    "\n",
    "        if self._algorithm == 'brute':\n",
    "            return self._y_train[self._dist(X).argpartition(self._n_neighbors)\n",
    "                                 [:, :self._n_neighbors]].astype('int64')\n",
    "        if self._algorithm == 'kd_tree':\n",
    "            return self._y_train[self._tree.query(X.astype(float),\n",
    "                                 k=self._n_neighbors)[1]].astype('int64')\n",
    "\n",
    "    def predict(self, X):\n",
    "\n",
    "        tmp = self._predict(X)\n",
    "        return np.apply_along_axis(lambda x: np.bincount(x).argmax(), 1,\n",
    "                                   tmp)\n",
    "\n",
    "    def predict_proba(self, X):\n",
    "\n",
    "        tmp = self._predict(X)\n",
    "        uniq = len(np.unique(self._y_train))\n",
    "        tmp = np.apply_along_axis(lambda x: np.bincount(x,\n",
    "                                  minlength=uniq), 1, tmp)\n",
    "        return np.apply_along_axis(lambda x: x / self._n_neighbors, 1,\n",
    "                                   tmp)\n",
    "\n",
    "    def score(self, X, y):\n",
    "        return np.average(self.predict(X) == y)"
   ]
  },
  {
   "cell_type": "markdown",
   "metadata": {},
   "source": [
    "**IRIS**"
   ]
  },
  {
   "cell_type": "code",
   "execution_count": 3,
   "metadata": {},
   "outputs": [],
   "source": [
    "iris = datasets.load_iris()"
   ]
  },
  {
   "cell_type": "code",
   "execution_count": 4,
   "metadata": {},
   "outputs": [],
   "source": [
    "X_train, X_test, y_train, y_test = train_test_split(iris.data, iris.target, test_size=0.1, stratify=iris.target)"
   ]
  },
  {
   "cell_type": "code",
   "execution_count": 5,
   "metadata": {},
   "outputs": [],
   "source": [
    "clf = KNeighborsClassifier(n_neighbors=2, algorithm='kd_tree')\n",
    "my_clf = MyKNeighborsClassifier(n_neighbors=2)"
   ]
  },
  {
   "cell_type": "code",
   "execution_count": 6,
   "metadata": {},
   "outputs": [
    {
     "name": "stdout",
     "output_type": "stream",
     "text": [
      "CPU times: user 4.51 ms, sys: 52 µs, total: 4.57 ms\n",
      "Wall time: 4.75 ms\n"
     ]
    },
    {
     "data": {
      "text/plain": [
       "KNeighborsClassifier(algorithm='kd_tree', leaf_size=30, metric='minkowski',\n",
       "           metric_params=None, n_jobs=1, n_neighbors=2, p=2,\n",
       "           weights='uniform')"
      ]
     },
     "execution_count": 6,
     "metadata": {},
     "output_type": "execute_result"
    }
   ],
   "source": [
    "%time clf.fit(X_train, y_train)"
   ]
  },
  {
   "cell_type": "code",
   "execution_count": 7,
   "metadata": {},
   "outputs": [
    {
     "name": "stdout",
     "output_type": "stream",
     "text": [
      "CPU times: user 61 µs, sys: 6 µs, total: 67 µs\n",
      "Wall time: 76.3 µs\n"
     ]
    }
   ],
   "source": [
    "%time my_clf.fit(X_train, y_train)"
   ]
  },
  {
   "cell_type": "code",
   "execution_count": 8,
   "metadata": {},
   "outputs": [
    {
     "name": "stdout",
     "output_type": "stream",
     "text": [
      "CPU times: user 2.63 ms, sys: 0 ns, total: 2.63 ms\n",
      "Wall time: 2.41 ms\n"
     ]
    },
    {
     "data": {
      "text/plain": [
       "array([0, 2, 1, 0, 2, 1, 2, 0, 1, 2, 0, 1, 1, 1, 0])"
      ]
     },
     "execution_count": 8,
     "metadata": {},
     "output_type": "execute_result"
    }
   ],
   "source": [
    "%time clf.predict(X_test)"
   ]
  },
  {
   "cell_type": "code",
   "execution_count": 9,
   "metadata": {},
   "outputs": [
    {
     "name": "stdout",
     "output_type": "stream",
     "text": [
      "CPU times: user 6.28 ms, sys: 0 ns, total: 6.28 ms\n",
      "Wall time: 4.86 ms\n"
     ]
    },
    {
     "data": {
      "text/plain": [
       "array([0, 2, 1, 0, 2, 1, 2, 0, 1, 2, 0, 1, 1, 1, 0])"
      ]
     },
     "execution_count": 9,
     "metadata": {},
     "output_type": "execute_result"
    }
   ],
   "source": [
    "%time my_clf.predict(X_test)"
   ]
  },
  {
   "cell_type": "code",
   "execution_count": 10,
   "metadata": {},
   "outputs": [
    {
     "name": "stdout",
     "output_type": "stream",
     "text": [
      "CPU times: user 1.94 ms, sys: 204 µs, total: 2.14 ms\n",
      "Wall time: 2.41 ms\n"
     ]
    },
    {
     "data": {
      "text/plain": [
       "array([[1., 0., 0.],\n",
       "       [0., 0., 1.],\n",
       "       [0., 1., 0.],\n",
       "       [1., 0., 0.],\n",
       "       [0., 0., 1.],\n",
       "       [0., 1., 0.],\n",
       "       [0., 0., 1.],\n",
       "       [1., 0., 0.],\n",
       "       [0., 1., 0.],\n",
       "       [0., 0., 1.],\n",
       "       [1., 0., 0.],\n",
       "       [0., 1., 0.],\n",
       "       [0., 1., 0.],\n",
       "       [0., 1., 0.],\n",
       "       [1., 0., 0.]])"
      ]
     },
     "execution_count": 10,
     "metadata": {},
     "output_type": "execute_result"
    }
   ],
   "source": [
    "%time clf.predict_proba(X_test)"
   ]
  },
  {
   "cell_type": "code",
   "execution_count": 11,
   "metadata": {},
   "outputs": [
    {
     "name": "stdout",
     "output_type": "stream",
     "text": [
      "CPU times: user 4.2 ms, sys: 3.18 ms, total: 7.38 ms\n",
      "Wall time: 5.84 ms\n"
     ]
    },
    {
     "data": {
      "text/plain": [
       "array([[1., 0., 0.],\n",
       "       [0., 0., 1.],\n",
       "       [0., 1., 0.],\n",
       "       [1., 0., 0.],\n",
       "       [0., 0., 1.],\n",
       "       [0., 1., 0.],\n",
       "       [0., 0., 1.],\n",
       "       [1., 0., 0.],\n",
       "       [0., 1., 0.],\n",
       "       [0., 0., 1.],\n",
       "       [1., 0., 0.],\n",
       "       [0., 1., 0.],\n",
       "       [0., 1., 0.],\n",
       "       [0., 1., 0.],\n",
       "       [1., 0., 0.]])"
      ]
     },
     "execution_count": 11,
     "metadata": {},
     "output_type": "execute_result"
    }
   ],
   "source": [
    "%time my_clf.predict_proba(X_test)"
   ]
  },
  {
   "cell_type": "code",
   "execution_count": 12,
   "metadata": {},
   "outputs": [
    {
     "data": {
      "text/plain": [
       "0.9333333333333333"
      ]
     },
     "execution_count": 12,
     "metadata": {},
     "output_type": "execute_result"
    }
   ],
   "source": [
    "clf.score(X_test, y_test)"
   ]
  },
  {
   "cell_type": "code",
   "execution_count": 13,
   "metadata": {},
   "outputs": [
    {
     "data": {
      "text/plain": [
       "0.9333333333333333"
      ]
     },
     "execution_count": 13,
     "metadata": {},
     "output_type": "execute_result"
    }
   ],
   "source": [
    "my_clf.score(X_test, y_test)"
   ]
  },
  {
   "cell_type": "markdown",
   "metadata": {},
   "source": [
    "Задание 3"
   ]
  },
  {
   "cell_type": "code",
   "execution_count": 7,
   "metadata": {},
   "outputs": [],
   "source": [
    "#%%pycodestyle\n",
    "\n",
    "points = []\n",
    "for i in range(1, 30):\n",
    "\n",
    "    my_clf = MyKNeighborsClassifier(n_neighbors=i)\n",
    "    tmps = []\n",
    "    for i in range(150):\n",
    "\n",
    "        X_train, X_test, y_train, y_test = \\\n",
    "            train_test_split(iris.data,\n",
    "                             iris.target,\n",
    "                             test_size=0.1,\n",
    "                             stratify=iris.target)\n",
    "        my_clf.fit(X_train, y_train)\n",
    "        tmps.append(my_clf.score(X_test, y_test))\n",
    "\n",
    "    points.append(np.mean(tmps))\n",
    "best_choice = np.argmax(points)+1\n"
   ]
  },
  {
   "cell_type": "code",
   "execution_count": 15,
   "metadata": {},
   "outputs": [
    {
     "data": {
      "text/plain": [
       "[<matplotlib.lines.Line2D at 0x7fe1053f6b70>]"
      ]
     },
     "execution_count": 15,
     "metadata": {},
     "output_type": "execute_result"
    },
    {
     "data": {
      "image/png": "[encoded data removed]",
      "text/plain": [
       "<Figure size 432x288 with 1 Axes>"
      ]
     },
     "metadata": {},
     "output_type": "display_data"
    }
   ],
   "source": [
    "plt.plot(range(1,30), points[:30])"
   ]
  },
  {
   "cell_type": "markdown",
   "metadata": {},
   "source": [
    "**MNIST**"
   ]
  },
  {
   "cell_type": "code",
   "execution_count": 31,
   "metadata": {},
   "outputs": [],
   "source": [
    "mnist = fetch_mldata('MNIST original')"
   ]
  },
  {
   "cell_type": "code",
   "execution_count": 32,
   "metadata": {},
   "outputs": [],
   "source": [
    "X_train, X_test, y_train, y_test = train_test_split(mnist.data, mnist.target, test_size=0.01, stratify=mnist.target)"
   ]
  },
  {
   "cell_type": "code",
   "execution_count": 33,
   "metadata": {},
   "outputs": [],
   "source": [
    "clf = KNeighborsClassifier(n_neighbors=2)\n",
    "my_clf = MyKNeighborsClassifier(n_neighbors=2)"
   ]
  },
  {
   "cell_type": "code",
   "execution_count": 34,
   "metadata": {},
   "outputs": [
    {
     "name": "stdout",
     "output_type": "stream",
     "text": [
      "CPU times: user 3min 10s, sys: 1.34 s, total: 3min 11s\n",
      "Wall time: 3min 9s\n"
     ]
    },
    {
     "data": {
      "text/plain": [
       "KNeighborsClassifier(algorithm='auto', leaf_size=30, metric='minkowski',\n",
       "           metric_params=None, n_jobs=1, n_neighbors=2, p=2,\n",
       "           weights='uniform')"
      ]
     },
     "execution_count": 34,
     "metadata": {},
     "output_type": "execute_result"
    }
   ],
   "source": [
    "%time clf.fit(X_train, y_train)"
   ]
  },
  {
   "cell_type": "code",
   "execution_count": 35,
   "metadata": {},
   "outputs": [
    {
     "name": "stdout",
     "output_type": "stream",
     "text": [
      "CPU times: user 72.8 ms, sys: 344 ms, total: 417 ms\n",
      "Wall time: 415 ms\n"
     ]
    }
   ],
   "source": [
    "%time my_clf.fit(X_train, y_train)"
   ]
  },
  {
   "cell_type": "code",
   "execution_count": 36,
   "metadata": {},
   "outputs": [
    {
     "name": "stdout",
     "output_type": "stream",
     "text": [
      "CPU times: user 3min 55s, sys: 47.4 ms, total: 3min 55s\n",
      "Wall time: 3min 55s\n"
     ]
    },
    {
     "data": {
      "text/plain": [
       "array([0., 1., 3., 0., 6., 3., 0., 9., 3., 3., 6., 5., 6., 7., 1., 7., 4.,\n",
       "       6., 4., 9., 8., 7., 5., 2., 0., 4., 7., 3., 2., 4., 7., 7., 1., 8.,\n",
       "       4., 8., 8., 7., 2., 0., 8., 5., 6., 3., 0., 9., 6., 2., 3., 8., 9.,\n",
       "       7., 2., 6., 8., 4., 0., 1., 3., 8., 8., 0., 9., 7., 9., 6., 4., 9.,\n",
       "       9., 8., 1., 0., 0., 7., 8., 6., 2., 7., 9., 3., 5., 6., 6., 5., 0.,\n",
       "       6., 0., 8., 7., 5., 6., 2., 1., 0., 6., 9., 3., 0., 9., 6., 3., 1.,\n",
       "       6., 0., 4., 0., 6., 6., 2., 3., 3., 4., 5., 8., 4., 2., 5., 3., 9.,\n",
       "       0., 4., 9., 4., 4., 2., 7., 1., 1., 3., 8., 7., 0., 4., 6., 8., 6.,\n",
       "       0., 6., 3., 1., 5., 7., 4., 9., 2., 1., 2., 2., 2., 8., 0., 2., 2.,\n",
       "       9., 1., 7., 4., 2., 1., 4., 7., 1., 1., 4., 1., 2., 7., 8., 9., 3.,\n",
       "       1., 3., 2., 3., 4., 8., 6., 0., 4., 3., 8., 5., 4., 7., 0., 0., 5.,\n",
       "       7., 0., 7., 9., 5., 1., 2., 1., 2., 4., 1., 5., 6., 7., 1., 9., 4.,\n",
       "       3., 2., 6., 9., 2., 5., 2., 6., 1., 6., 9., 0., 9., 8., 1., 7., 7.,\n",
       "       4., 9., 3., 1., 4., 2., 8., 5., 9., 2., 9., 5., 4., 4., 0., 5., 4.,\n",
       "       4., 7., 8., 9., 2., 7., 3., 5., 0., 6., 4., 1., 7., 5., 5., 7., 2.,\n",
       "       4., 9., 3., 1., 7., 5., 4., 8., 9., 2., 0., 2., 6., 8., 5., 5., 7.,\n",
       "       7., 9., 0., 3., 4., 0., 4., 4., 9., 5., 9., 8., 7., 3., 5., 6., 1.,\n",
       "       6., 3., 9., 7., 6., 1., 5., 5., 1., 3., 4., 0., 3., 9., 3., 5., 2.,\n",
       "       2., 1., 4., 0., 9., 4., 0., 3., 8., 1., 1., 0., 1., 5., 5., 3., 9.,\n",
       "       8., 2., 4., 1., 2., 8., 5., 4., 1., 3., 7., 1., 8., 6., 4., 6., 6.,\n",
       "       5., 3., 9., 2., 3., 8., 5., 9., 1., 0., 7., 8., 1., 8., 3., 4., 1.,\n",
       "       6., 4., 8., 7., 0., 9., 9., 8., 7., 2., 9., 6., 0., 5., 0., 8., 5.,\n",
       "       4., 1., 3., 7., 8., 2., 8., 3., 3., 8., 7., 2., 0., 8., 3., 2., 6.,\n",
       "       5., 0., 6., 1., 3., 1., 4., 6., 7., 5., 8., 6., 3., 8., 4., 7., 6.,\n",
       "       0., 5., 5., 9., 8., 0., 0., 5., 6., 1., 4., 1., 9., 9., 7., 8., 6.,\n",
       "       9., 3., 7., 7., 6., 7., 3., 1., 3., 4., 7., 5., 8., 1., 1., 6., 5.,\n",
       "       8., 7., 3., 2., 4., 5., 3., 1., 6., 4., 4., 1., 4., 7., 1., 9., 5.,\n",
       "       9., 3., 8., 4., 5., 1., 6., 0., 6., 5., 2., 0., 0., 8., 6., 5., 2.,\n",
       "       5., 8., 8., 8., 2., 7., 7., 6., 4., 7., 5., 0., 2., 1., 4., 1., 0.,\n",
       "       2., 9., 6., 3., 7., 6., 0., 1., 0., 4., 9., 8., 7., 0., 9., 7., 1.,\n",
       "       6., 7., 1., 1., 7., 6., 3., 7., 6., 3., 7., 0., 6., 5., 9., 9., 5.,\n",
       "       1., 4., 8., 9., 0., 7., 4., 7., 1., 3., 9., 3., 9., 8., 5., 5., 2.,\n",
       "       6., 9., 1., 0., 1., 2., 1., 9., 3., 1., 6., 6., 4., 6., 6., 2., 2.,\n",
       "       0., 1., 9., 9., 8., 6., 4., 7., 0., 0., 9., 0., 6., 6., 9., 2., 9.,\n",
       "       8., 1., 5., 2., 2., 0., 1., 5., 3., 6., 1., 2., 7., 5., 1., 4., 4.,\n",
       "       3., 0., 0., 5., 1., 9., 8., 2., 5., 5., 0., 4., 9., 2., 3., 1., 9.,\n",
       "       4., 4., 2., 6., 2., 4., 2., 2., 2., 3., 1., 7., 1., 5., 2., 7., 4.,\n",
       "       2., 9., 2., 2., 5., 0., 5., 6., 3., 2., 8., 2., 0., 1., 3., 1., 8.,\n",
       "       1., 2., 8., 5., 3., 7., 6., 6., 3., 8., 1., 3., 9., 2., 7., 7., 3.,\n",
       "       2., 3., 2., 6., 9., 1., 7., 0., 0., 7., 3., 2., 0., 7., 2., 4., 1.,\n",
       "       9., 1., 2., 7., 8., 8., 0., 7., 3., 6., 0., 0., 0., 5., 1., 9., 0.,\n",
       "       7., 2., 3.])"
      ]
     },
     "execution_count": 36,
     "metadata": {},
     "output_type": "execute_result"
    }
   ],
   "source": [
    "%time clf.predict(X_test)"
   ]
  },
  {
   "cell_type": "code",
   "execution_count": 37,
   "metadata": {},
   "outputs": [
    {
     "name": "stdout",
     "output_type": "stream",
     "text": [
      "CPU times: user 16min 9s, sys: 5min 7s, total: 21min 16s\n",
      "Wall time: 10min 7s\n"
     ]
    },
    {
     "data": {
      "text/plain": [
       "array([0, 1, 3, 0, 6, 3, 0, 9, 3, 3, 6, 5, 6, 7, 1, 7, 4, 6, 4, 9, 8, 7,\n",
       "       5, 2, 0, 4, 7, 3, 2, 4, 7, 7, 1, 8, 4, 8, 8, 7, 2, 0, 8, 5, 6, 3,\n",
       "       0, 9, 6, 2, 3, 8, 9, 7, 2, 6, 8, 4, 0, 1, 3, 8, 8, 0, 9, 7, 9, 6,\n",
       "       4, 9, 9, 8, 1, 0, 0, 7, 8, 6, 2, 7, 9, 3, 5, 6, 6, 5, 0, 6, 0, 8,\n",
       "       7, 5, 6, 2, 1, 0, 6, 9, 3, 0, 9, 6, 3, 1, 6, 0, 4, 0, 6, 6, 2, 3,\n",
       "       3, 4, 5, 8, 4, 2, 5, 3, 9, 0, 4, 9, 4, 4, 2, 7, 1, 1, 3, 8, 7, 0,\n",
       "       4, 6, 8, 6, 0, 6, 3, 1, 5, 7, 4, 9, 2, 1, 2, 2, 2, 8, 0, 2, 2, 9,\n",
       "       1, 7, 4, 2, 1, 4, 7, 1, 1, 4, 1, 2, 7, 8, 9, 3, 1, 3, 2, 3, 4, 8,\n",
       "       6, 0, 4, 3, 8, 5, 4, 7, 0, 0, 5, 7, 0, 7, 9, 5, 1, 2, 1, 2, 4, 1,\n",
       "       5, 6, 7, 1, 9, 4, 3, 2, 6, 9, 2, 5, 2, 6, 1, 6, 9, 0, 9, 8, 1, 7,\n",
       "       7, 4, 9, 3, 1, 4, 2, 8, 5, 9, 2, 9, 5, 4, 4, 0, 5, 4, 4, 7, 8, 9,\n",
       "       2, 7, 3, 5, 0, 6, 4, 1, 7, 5, 5, 7, 2, 4, 9, 3, 1, 7, 5, 4, 8, 9,\n",
       "       2, 0, 2, 6, 8, 5, 5, 7, 7, 9, 0, 3, 4, 0, 4, 4, 9, 5, 9, 8, 7, 3,\n",
       "       5, 6, 1, 6, 3, 9, 7, 6, 1, 5, 5, 1, 3, 4, 0, 3, 9, 3, 5, 2, 2, 1,\n",
       "       4, 0, 9, 4, 0, 3, 8, 1, 1, 0, 1, 5, 5, 3, 9, 8, 2, 4, 1, 2, 8, 5,\n",
       "       4, 1, 3, 7, 1, 8, 6, 4, 6, 6, 5, 3, 9, 2, 3, 8, 5, 9, 1, 0, 7, 8,\n",
       "       1, 8, 3, 4, 1, 6, 4, 8, 7, 0, 9, 9, 8, 7, 2, 9, 6, 0, 5, 0, 8, 5,\n",
       "       4, 1, 3, 7, 8, 2, 8, 3, 3, 8, 7, 2, 0, 8, 3, 2, 6, 5, 0, 6, 1, 3,\n",
       "       1, 4, 6, 7, 5, 8, 6, 3, 8, 4, 7, 6, 0, 5, 5, 9, 8, 0, 0, 5, 6, 1,\n",
       "       4, 1, 9, 9, 7, 8, 6, 9, 3, 7, 7, 6, 7, 3, 1, 3, 4, 7, 5, 8, 1, 1,\n",
       "       6, 5, 8, 7, 3, 2, 4, 5, 3, 1, 6, 4, 4, 1, 4, 7, 1, 9, 5, 9, 3, 8,\n",
       "       4, 5, 1, 6, 0, 6, 5, 2, 0, 0, 8, 6, 5, 2, 5, 8, 8, 8, 2, 7, 7, 6,\n",
       "       4, 7, 5, 0, 2, 1, 4, 1, 0, 2, 9, 6, 3, 7, 6, 0, 1, 0, 4, 9, 8, 7,\n",
       "       0, 9, 7, 1, 6, 7, 1, 1, 7, 6, 3, 7, 6, 3, 7, 0, 6, 5, 9, 9, 5, 1,\n",
       "       4, 8, 9, 0, 7, 4, 7, 1, 3, 9, 3, 9, 8, 5, 5, 2, 6, 9, 1, 0, 1, 2,\n",
       "       1, 9, 3, 1, 6, 6, 4, 6, 6, 2, 2, 0, 1, 9, 9, 8, 6, 4, 7, 0, 0, 9,\n",
       "       0, 6, 6, 9, 2, 9, 8, 1, 5, 2, 2, 0, 1, 5, 3, 6, 1, 2, 7, 5, 1, 4,\n",
       "       4, 3, 0, 0, 5, 1, 9, 8, 2, 5, 5, 0, 4, 9, 2, 3, 1, 9, 4, 4, 2, 6,\n",
       "       2, 4, 2, 2, 2, 3, 1, 7, 1, 5, 2, 7, 4, 2, 9, 2, 2, 5, 0, 5, 6, 3,\n",
       "       2, 8, 2, 0, 1, 3, 1, 8, 1, 2, 8, 5, 3, 7, 6, 6, 3, 8, 1, 3, 9, 2,\n",
       "       7, 7, 3, 2, 3, 2, 6, 9, 1, 7, 0, 0, 7, 3, 2, 0, 7, 2, 4, 1, 9, 1,\n",
       "       2, 7, 8, 8, 0, 7, 3, 6, 0, 0, 0, 5, 1, 9, 0, 7, 2, 3])"
      ]
     },
     "execution_count": 37,
     "metadata": {},
     "output_type": "execute_result"
    }
   ],
   "source": [
    "%time my_clf.predict(X_test)"
   ]
  },
  {
   "cell_type": "code",
   "execution_count": 38,
   "metadata": {},
   "outputs": [
    {
     "name": "stdout",
     "output_type": "stream",
     "text": [
      "CPU times: user 3min 55s, sys: 13.4 ms, total: 3min 55s\n",
      "Wall time: 3min 55s\n"
     ]
    },
    {
     "data": {
      "text/plain": [
       "array([[1. , 0. , 0. , ..., 0. , 0. , 0. ],\n",
       "       [0. , 1. , 0. , ..., 0. , 0. , 0. ],\n",
       "       [0. , 0. , 0. , ..., 0. , 0. , 0. ],\n",
       "       ...,\n",
       "       [0. , 0. , 0. , ..., 1. , 0. , 0. ],\n",
       "       [0. , 0. , 0.5, ..., 0. , 0.5, 0. ],\n",
       "       [0. , 0. , 0. , ..., 0. , 0. , 0. ]])"
      ]
     },
     "execution_count": 38,
     "metadata": {},
     "output_type": "execute_result"
    }
   ],
   "source": [
    "%time clf.predict_proba(X_test)"
   ]
  },
  {
   "cell_type": "code",
   "execution_count": 39,
   "metadata": {},
   "outputs": [
    {
     "name": "stdout",
     "output_type": "stream",
     "text": [
      "CPU times: user 16min 16s, sys: 4min 54s, total: 21min 10s\n",
      "Wall time: 9min 49s\n"
     ]
    },
    {
     "data": {
      "text/plain": [
       "array([[1. , 0. , 0. , ..., 0. , 0. , 0. ],\n",
       "       [0. , 1. , 0. , ..., 0. , 0. , 0. ],\n",
       "       [0. , 0. , 0. , ..., 0. , 0. , 0. ],\n",
       "       ...,\n",
       "       [0. , 0. , 0. , ..., 1. , 0. , 0. ],\n",
       "       [0. , 0. , 0.5, ..., 0. , 0.5, 0. ],\n",
       "       [0. , 0. , 0. , ..., 0. , 0. , 0. ]])"
      ]
     },
     "execution_count": 39,
     "metadata": {},
     "output_type": "execute_result"
    }
   ],
   "source": [
    "%time my_clf.predict_proba(X_test)"
   ]
  },
  {
   "cell_type": "code",
   "execution_count": 40,
   "metadata": {},
   "outputs": [
    {
     "data": {
      "text/plain": [
       "0.9671428571428572"
      ]
     },
     "execution_count": 40,
     "metadata": {},
     "output_type": "execute_result"
    }
   ],
   "source": [
    "clf.score(X_test, y_test)"
   ]
  },
  {
   "cell_type": "code",
   "execution_count": 41,
   "metadata": {},
   "outputs": [
    {
     "data": {
      "text/plain": [
       "0.9671428571428572"
      ]
     },
     "execution_count": 41,
     "metadata": {},
     "output_type": "execute_result"
    }
   ],
   "source": [
    "my_clf.score(X_test, y_test)"
   ]
  },
  {
   "cell_type": "markdown",
   "metadata": {},
   "source": [
    "Задание 4"
   ]
  },
  {
   "cell_type": "code",
   "execution_count": 21,
   "metadata": {},
   "outputs": [],
   "source": [
    "clf = KNeighborsClassifier(n_neighbors=best_choice, algorithm='kd_tree')\n",
    "my_clf = MyKNeighborsClassifier(n_neighbors=best_choice, algorithm='kd_tree')"
   ]
  },
  {
   "cell_type": "code",
   "execution_count": 22,
   "metadata": {},
   "outputs": [],
   "source": [
    "X_train, X_test, y_train, y_test = train_test_split(mnist.data, mnist.target, test_size=0.01, stratify=mnist.target)"
   ]
  },
  {
   "cell_type": "code",
   "execution_count": 23,
   "metadata": {},
   "outputs": [
    {
     "name": "stdout",
     "output_type": "stream",
     "text": [
      "CPU times: user 3min 5s, sys: 1.5 s, total: 3min 6s\n",
      "Wall time: 3min 4s\n"
     ]
    },
    {
     "data": {
      "text/plain": [
       "KNeighborsClassifier(algorithm='kd_tree', leaf_size=30, metric='minkowski',\n",
       "           metric_params=None, n_jobs=1, n_neighbors=17, p=2,\n",
       "           weights='uniform')"
      ]
     },
     "execution_count": 23,
     "metadata": {},
     "output_type": "execute_result"
    }
   ],
   "source": [
    "%time clf.fit(X_train, y_train)"
   ]
  },
  {
   "cell_type": "code",
   "execution_count": 24,
   "metadata": {},
   "outputs": [
    {
     "name": "stdout",
     "output_type": "stream",
     "text": [
      "CPU times: user 3min 4s, sys: 2.08 s, total: 3min 6s\n",
      "Wall time: 3min 4s\n"
     ]
    }
   ],
   "source": [
    "%time my_clf.fit(X_train, y_train)"
   ]
  },
  {
   "cell_type": "code",
   "execution_count": 25,
   "metadata": {},
   "outputs": [
    {
     "name": "stdout",
     "output_type": "stream",
     "text": [
      "CPU times: user 3min 58s, sys: 356 ms, total: 3min 58s\n",
      "Wall time: 3min 58s\n"
     ]
    },
    {
     "data": {
      "text/plain": [
       "array([3., 3., 1., 8., 3., 2., 8., 1., 5., 9., 7., 6., 5., 7., 4., 7., 1.,\n",
       "       1., 3., 0., 6., 3., 4., 4., 2., 3., 8., 4., 6., 4., 1., 0., 0., 2.,\n",
       "       4., 5., 1., 4., 2., 2., 1., 4., 1., 5., 8., 9., 1., 8., 5., 2., 4.,\n",
       "       1., 5., 7., 1., 9., 2., 5., 1., 7., 6., 5., 5., 7., 1., 9., 4., 7.,\n",
       "       9., 9., 7., 5., 7., 5., 1., 7., 0., 7., 7., 3., 3., 4., 9., 5., 3.,\n",
       "       8., 5., 5., 1., 1., 9., 9., 1., 9., 1., 6., 8., 7., 1., 9., 7., 8.,\n",
       "       6., 5., 1., 3., 2., 5., 0., 8., 1., 7., 6., 2., 7., 6., 0., 8., 1.,\n",
       "       5., 2., 3., 3., 1., 7., 9., 1., 4., 0., 5., 1., 4., 4., 5., 9., 5.,\n",
       "       0., 0., 1., 7., 9., 7., 0., 1., 0., 8., 0., 0., 1., 8., 9., 3., 6.,\n",
       "       5., 1., 0., 3., 8., 5., 2., 2., 8., 0., 6., 5., 9., 6., 7., 6., 2.,\n",
       "       8., 0., 4., 3., 4., 0., 4., 4., 1., 0., 4., 9., 9., 7., 9., 6., 5.,\n",
       "       2., 2., 9., 2., 4., 9., 8., 7., 7., 3., 6., 0., 8., 0., 2., 4., 0.,\n",
       "       7., 2., 4., 1., 3., 0., 0., 1., 3., 1., 4., 0., 8., 1., 1., 5., 6.,\n",
       "       9., 6., 5., 4., 6., 4., 3., 5., 1., 6., 8., 0., 7., 9., 7., 6., 3.,\n",
       "       7., 5., 3., 6., 2., 7., 2., 3., 3., 0., 5., 1., 1., 9., 1., 2., 3.,\n",
       "       1., 1., 1., 1., 3., 9., 4., 7., 9., 5., 3., 2., 5., 2., 5., 9., 5.,\n",
       "       6., 9., 0., 4., 3., 9., 9., 1., 3., 3., 0., 9., 0., 6., 3., 6., 6.,\n",
       "       2., 6., 9., 3., 9., 0., 3., 7., 8., 1., 0., 4., 9., 3., 0., 0., 0.,\n",
       "       4., 5., 4., 6., 0., 6., 7., 6., 4., 1., 0., 7., 5., 4., 8., 7., 7.,\n",
       "       8., 4., 9., 1., 5., 0., 6., 8., 7., 7., 8., 9., 2., 0., 6., 6., 1.,\n",
       "       8., 1., 9., 8., 0., 4., 2., 7., 2., 3., 4., 5., 7., 1., 8., 4., 8.,\n",
       "       6., 4., 1., 3., 9., 3., 4., 1., 4., 3., 5., 8., 9., 0., 3., 3., 6.,\n",
       "       4., 9., 2., 7., 0., 6., 9., 5., 7., 7., 0., 3., 5., 1., 3., 8., 0.,\n",
       "       7., 3., 1., 2., 4., 1., 7., 6., 7., 6., 6., 7., 4., 4., 6., 4., 2.,\n",
       "       5., 3., 2., 3., 1., 0., 9., 3., 7., 7., 2., 5., 1., 7., 5., 4., 4.,\n",
       "       8., 2., 1., 8., 2., 8., 3., 4., 7., 7., 2., 8., 9., 3., 0., 3., 2.,\n",
       "       4., 8., 7., 1., 8., 2., 4., 7., 1., 3., 0., 2., 3., 6., 8., 8., 4.,\n",
       "       6., 5., 5., 6., 4., 0., 3., 6., 9., 2., 1., 2., 3., 8., 6., 0., 2.,\n",
       "       4., 3., 7., 6., 3., 1., 0., 6., 3., 2., 9., 1., 7., 6., 6., 0., 8.,\n",
       "       0., 9., 2., 4., 7., 2., 1., 9., 2., 5., 9., 3., 2., 5., 5., 6., 3.,\n",
       "       3., 8., 5., 9., 7., 6., 4., 0., 7., 2., 1., 9., 1., 0., 1., 3., 7.,\n",
       "       8., 4., 6., 4., 6., 4., 5., 9., 8., 9., 8., 9., 1., 0., 5., 1., 5.,\n",
       "       6., 0., 4., 9., 6., 6., 8., 2., 9., 7., 5., 0., 8., 2., 7., 0., 6.,\n",
       "       8., 7., 6., 4., 0., 7., 4., 8., 1., 3., 5., 3., 7., 7., 1., 0., 2.,\n",
       "       1., 7., 2., 6., 0., 9., 7., 0., 8., 9., 8., 6., 1., 7., 6., 3., 0.,\n",
       "       7., 9., 3., 8., 8., 9., 6., 2., 6., 8., 8., 1., 4., 1., 8., 4., 1.,\n",
       "       6., 3., 6., 8., 8., 2., 0., 2., 9., 7., 0., 1., 1., 4., 4., 3., 6.,\n",
       "       4., 8., 9., 6., 2., 5., 3., 2., 9., 3., 2., 3., 2., 2., 2., 9., 0.,\n",
       "       4., 9., 1., 2., 4., 9., 1., 3., 6., 8., 5., 2., 2., 6., 0., 9., 5.,\n",
       "       3., 9., 9., 7., 8., 2., 2., 8., 1., 2., 0., 4., 2., 2., 7., 6., 9.,\n",
       "       2., 8., 8., 3., 5., 7., 4., 0., 2., 5., 4., 3., 0., 7., 6., 5., 7.,\n",
       "       0., 3., 9.])"
      ]
     },
     "execution_count": 25,
     "metadata": {},
     "output_type": "execute_result"
    }
   ],
   "source": [
    "%time clf.predict(X_test)"
   ]
  },
  {
   "cell_type": "code",
   "execution_count": 26,
   "metadata": {},
   "outputs": [
    {
     "name": "stdout",
     "output_type": "stream",
     "text": [
      "CPU times: user 3min 16s, sys: 131 ms, total: 3min 16s\n",
      "Wall time: 3min 15s\n"
     ]
    },
    {
     "data": {
      "text/plain": [
       "array([3, 3, 1, 8, 3, 2, 8, 1, 5, 9, 7, 6, 5, 7, 4, 7, 1, 1, 3, 0, 6, 3,\n",
       "       4, 4, 2, 3, 8, 4, 6, 4, 1, 0, 0, 2, 4, 5, 1, 4, 2, 2, 1, 4, 1, 5,\n",
       "       8, 9, 1, 8, 5, 2, 4, 1, 5, 7, 1, 9, 2, 5, 1, 7, 6, 5, 5, 7, 1, 9,\n",
       "       4, 7, 9, 9, 7, 5, 7, 5, 1, 7, 0, 7, 7, 3, 3, 4, 9, 5, 3, 8, 5, 5,\n",
       "       1, 1, 9, 9, 1, 9, 1, 6, 8, 7, 1, 9, 7, 8, 6, 5, 1, 3, 2, 5, 0, 8,\n",
       "       1, 7, 6, 2, 7, 6, 0, 8, 1, 5, 2, 3, 3, 1, 7, 9, 1, 4, 0, 5, 1, 4,\n",
       "       4, 5, 9, 5, 0, 0, 1, 7, 9, 7, 0, 1, 0, 8, 0, 0, 1, 8, 9, 3, 6, 5,\n",
       "       1, 0, 3, 8, 5, 2, 2, 8, 0, 6, 5, 9, 6, 7, 6, 2, 8, 0, 4, 3, 4, 0,\n",
       "       4, 4, 1, 0, 4, 9, 9, 7, 9, 6, 5, 2, 2, 9, 2, 4, 9, 8, 7, 7, 3, 6,\n",
       "       0, 8, 0, 2, 4, 0, 7, 2, 4, 1, 3, 0, 0, 1, 3, 1, 4, 0, 8, 1, 1, 5,\n",
       "       6, 9, 6, 5, 4, 6, 4, 3, 5, 1, 6, 8, 0, 7, 9, 7, 6, 3, 7, 5, 3, 6,\n",
       "       2, 7, 2, 3, 3, 0, 5, 1, 1, 9, 1, 2, 3, 1, 1, 1, 1, 3, 9, 4, 7, 9,\n",
       "       5, 3, 2, 5, 2, 5, 9, 5, 6, 9, 0, 4, 3, 9, 9, 1, 3, 3, 0, 9, 0, 6,\n",
       "       3, 6, 6, 2, 6, 9, 3, 9, 0, 3, 7, 8, 1, 0, 4, 9, 3, 0, 0, 0, 4, 5,\n",
       "       4, 6, 0, 6, 7, 6, 4, 1, 0, 7, 5, 4, 8, 7, 7, 8, 4, 9, 1, 5, 0, 6,\n",
       "       8, 7, 7, 8, 9, 2, 0, 6, 6, 1, 8, 1, 9, 8, 0, 4, 2, 7, 2, 3, 4, 5,\n",
       "       7, 1, 8, 4, 8, 6, 4, 1, 3, 9, 3, 4, 1, 4, 3, 5, 8, 9, 0, 3, 3, 6,\n",
       "       4, 9, 2, 7, 0, 6, 9, 5, 7, 7, 0, 3, 5, 1, 3, 8, 0, 7, 3, 1, 2, 4,\n",
       "       1, 7, 6, 7, 6, 6, 7, 4, 4, 6, 4, 2, 5, 3, 2, 3, 1, 0, 9, 3, 7, 7,\n",
       "       2, 5, 1, 7, 5, 4, 4, 8, 2, 1, 8, 2, 8, 3, 4, 7, 7, 2, 8, 9, 3, 0,\n",
       "       3, 2, 4, 8, 7, 1, 8, 2, 4, 7, 1, 3, 0, 2, 3, 6, 8, 8, 4, 6, 5, 5,\n",
       "       6, 4, 0, 3, 6, 9, 2, 1, 2, 3, 8, 6, 0, 2, 4, 3, 7, 6, 3, 1, 0, 6,\n",
       "       3, 2, 9, 1, 7, 6, 6, 0, 8, 0, 9, 2, 4, 7, 2, 1, 9, 2, 5, 9, 3, 2,\n",
       "       5, 5, 6, 3, 3, 8, 5, 9, 7, 6, 4, 0, 7, 2, 1, 9, 1, 0, 1, 3, 7, 8,\n",
       "       4, 6, 4, 6, 4, 5, 9, 8, 9, 8, 9, 1, 0, 5, 1, 5, 6, 0, 4, 9, 6, 6,\n",
       "       8, 2, 9, 7, 5, 0, 8, 2, 7, 0, 6, 8, 7, 6, 4, 0, 7, 4, 8, 1, 3, 5,\n",
       "       3, 7, 7, 1, 0, 2, 1, 7, 2, 6, 0, 9, 7, 0, 8, 9, 8, 6, 1, 7, 6, 3,\n",
       "       0, 7, 9, 3, 8, 8, 9, 6, 2, 6, 8, 8, 1, 4, 1, 8, 4, 1, 6, 3, 6, 8,\n",
       "       8, 2, 0, 2, 9, 7, 0, 1, 1, 4, 4, 3, 6, 4, 8, 9, 6, 2, 5, 3, 2, 9,\n",
       "       3, 2, 3, 2, 2, 2, 9, 0, 4, 9, 1, 2, 4, 9, 1, 3, 6, 8, 5, 2, 2, 6,\n",
       "       0, 9, 5, 3, 9, 9, 7, 8, 2, 2, 8, 1, 2, 0, 4, 2, 2, 7, 6, 9, 2, 8,\n",
       "       8, 3, 5, 7, 4, 0, 2, 5, 4, 3, 0, 7, 6, 5, 7, 0, 3, 9])"
      ]
     },
     "execution_count": 26,
     "metadata": {},
     "output_type": "execute_result"
    }
   ],
   "source": [
    "%time my_clf.predict(X_test)"
   ]
  },
  {
   "cell_type": "code",
   "execution_count": 27,
   "metadata": {},
   "outputs": [
    {
     "name": "stdout",
     "output_type": "stream",
     "text": [
      "CPU times: user 3min 57s, sys: 367 ms, total: 3min 57s\n",
      "Wall time: 3min 57s\n"
     ]
    },
    {
     "data": {
      "text/plain": [
       "array([[0.        , 0.        , 0.        , ..., 0.        , 0.        ,\n",
       "        0.        ],\n",
       "       [0.        , 0.        , 0.        , ..., 0.        , 0.        ,\n",
       "        0.        ],\n",
       "       [0.        , 1.        , 0.        , ..., 0.        , 0.        ,\n",
       "        0.        ],\n",
       "       ...,\n",
       "       [1.        , 0.        , 0.        , ..., 0.        , 0.        ,\n",
       "        0.        ],\n",
       "       [0.        , 0.        , 0.        , ..., 0.05882353, 0.        ,\n",
       "        0.17647059],\n",
       "       [0.        , 0.        , 0.        , ..., 0.11764706, 0.        ,\n",
       "        0.88235294]])"
      ]
     },
     "execution_count": 27,
     "metadata": {},
     "output_type": "execute_result"
    }
   ],
   "source": [
    "%time clf.predict_proba(X_test)"
   ]
  },
  {
   "cell_type": "code",
   "execution_count": 28,
   "metadata": {},
   "outputs": [
    {
     "name": "stdout",
     "output_type": "stream",
     "text": [
      "CPU times: user 3min 19s, sys: 47.1 ms, total: 3min 19s\n",
      "Wall time: 3min 19s\n"
     ]
    },
    {
     "data": {
      "text/plain": [
       "array([[0.        , 0.        , 0.        , ..., 0.        , 0.        ,\n",
       "        0.        ],\n",
       "       [0.        , 0.        , 0.        , ..., 0.        , 0.        ,\n",
       "        0.        ],\n",
       "       [0.        , 1.        , 0.        , ..., 0.        , 0.        ,\n",
       "        0.        ],\n",
       "       ...,\n",
       "       [1.        , 0.        , 0.        , ..., 0.        , 0.        ,\n",
       "        0.        ],\n",
       "       [0.        , 0.        , 0.        , ..., 0.05882353, 0.        ,\n",
       "        0.17647059],\n",
       "       [0.        , 0.        , 0.        , ..., 0.11764706, 0.        ,\n",
       "        0.88235294]])"
      ]
     },
     "execution_count": 28,
     "metadata": {},
     "output_type": "execute_result"
    }
   ],
   "source": [
    "%time my_clf.predict_proba(X_test)"
   ]
  },
  {
   "cell_type": "code",
   "execution_count": 29,
   "metadata": {},
   "outputs": [
    {
     "data": {
      "text/plain": [
       "0.9728571428571429"
      ]
     },
     "execution_count": 29,
     "metadata": {},
     "output_type": "execute_result"
    }
   ],
   "source": [
    "clf.score(X_test, y_test)"
   ]
  },
  {
   "cell_type": "code",
   "execution_count": 30,
   "metadata": {},
   "outputs": [
    {
     "data": {
      "text/plain": [
       "0.9728571428571429"
      ]
     },
     "execution_count": 30,
     "metadata": {},
     "output_type": "execute_result"
    }
   ],
   "source": [
    "my_clf.score(X_test, y_test)"
   ]
  },
  {
   "cell_type": "markdown",
   "metadata": {},
   "source": [
    "Задание 5"
   ]
  },
  {
   "cell_type": "code",
   "execution_count": null,
   "metadata": {},
   "outputs": [],
   "source": [
    "# seaborn\n",
    "\"\"\"\n",
    "    Библиотека для визуализации данных, основанная на matplotlib. Предоставляет высокоуровневый интерфейс для \n",
    "создания красивых и информативных графиков\n",
    "\"\"\"\n",
    "# matplotlib\n",
    "\"\"\"\n",
    "    Библиотека для визуализации данных двумерной графикой\n",
    "\"\"\"\n",
    "# train_test_split\n",
    "\"\"\"\n",
    "    Функция, разделяющая выборку на обучающую и тестовую\n",
    "\"\"\"\n",
    "# Pipelin%load_ext e (from sklearn.pipeline import Pipeline)\n",
    "\n",
    "# StandardScaler (from sklearn.preprocessing import StandardScaler)\n",
    "\"\"\"\n",
    "    Класс, используемый для нормализации/стандартизации признаков\n",
    "\"\"\"\n",
    "# ClassifierMixin\n",
    "\"\"\"\n",
    "    Базовый класс для классификаторов\n",
    "\"\"\"\n",
    "# NeighborsBase\n",
    "\"\"\"\n",
    "    Базовый класс для предсказателей, использующих NN метод\n",
    "\"\"\"\n",
    "# KNeighborsMixin\n",
    "\"\"\"\n",
    "    Миксин, от которого наследуются классы, использующие поиск KNN\n",
    "\"\"\"\n",
    "# SupervisedIntegerMixin\n",
    "\"\"\"\n",
    "    Класс, содержащий (только) метод fit\n",
    "\"\"\""
   ]
  }
 ],
 "metadata": {
  "kernelspec": {
   "display_name": "Python 3",
   "language": "python",
   "name": "python3"
  },
  "language_info": {
   "codemirror_mode": {
    "name": "ipython",
    "version": 3
   },
   "file_extension": ".py",
   "mimetype": "text/x-python",
   "name": "python",
   "nbconvert_exporter": "python",
   "pygments_lexer": "ipython3",
   "version": "3.6.5"
  }
 },
 "nbformat": 4,
 "nbformat_minor": 2
}
